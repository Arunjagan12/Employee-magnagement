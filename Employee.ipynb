{
  "nbformat": 4,
  "nbformat_minor": 0,
  "metadata": {
    "colab": {
      "provenance": [],
      "authorship_tag": "ABX9TyNi6tjbM+wN8GeFE1XacZCd",
      "include_colab_link": true
    },
    "kernelspec": {
      "name": "python3",
      "display_name": "Python 3"
    },
    "language_info": {
      "name": "python"
    }
  },
  "cells": [
    {
      "cell_type": "markdown",
      "metadata": {
        "id": "view-in-github",
        "colab_type": "text"
      },
      "source": [
        "<a href=\"https://colab.research.google.com/github/Arunjagan12/Employee-magnagement/blob/main/Employee.ipynb\" target=\"_parent\"><img src=\"https://colab.research.google.com/assets/colab-badge.svg\" alt=\"Open In Colab\"/></a>"
      ]
    },
    {
      "cell_type": "code",
      "execution_count": 3,
      "metadata": {
        "colab": {
          "base_uri": "https://localhost:8080/"
        },
        "id": "enqgLS1b2El5",
        "outputId": "2d014444-c05b-4c75-d4e6-cc96eb7bea40"
      },
      "outputs": [
        {
          "output_type": "stream",
          "name": "stdout",
          "text": [
            "\n",
            "Employees who worked for 7 consecutive days:\n",
            "          Employee Name Position ID\n",
            "678       CeWdEza, Erik   WFS000465\n",
            "931  CaraGiXXa, AWMhEWy   WFS000514\n",
            "\n",
            "Employees with less than 10 hours between shifts but greater than 1 hour:\n",
            "        Employee Name Position ID\n",
            "2     REsaXiaWE, XAis   WFS000065\n",
            "4     REsaXiaWE, XAis   WFS000065\n",
            "6     REsaXiaWE, XAis   WFS000065\n",
            "8     REsaXiaWE, XAis   WFS000065\n",
            "10    REsaXiaWE, XAis   WFS000065\n",
            "...               ...         ...\n",
            "1474  WgAyeW, RayCEWd   WFS000589\n",
            "1476  WgAyeW, RayCEWd   WFS000589\n",
            "1478  WgAyeW, RayCEWd   WFS000589\n",
            "1480  WgAyeW, RayCEWd   WFS000589\n",
            "1482  WgAyeW, RayCEWd   WFS000589\n",
            "\n",
            "[688 rows x 2 columns]\n",
            "\n",
            "Employees who worked for more than 14 hours in a single shift:\n",
            "                        Employee Name Position ID\n",
            "1036  DeXgadiXXE REdarMe, ChrisMiaW S   WFS000523\n"
          ]
        }
      ],
      "source": [
        "import pandas as pd\n",
        "from datetime import datetime, timedelta\n",
        "\n",
        "# Read data from CSV file\n",
        "csv_file_path = '/content/Assignment_Timecard.xlsx - Sheet1.csv'\n",
        "df = pd.read_csv(csv_file_path)\n",
        "\n",
        "# Remove rows with NaN or NaT values\n",
        "df = df.dropna(subset=['Time', 'Time Out'])\n",
        "\n",
        "# Convert the 'Time In' and 'Time Out' columns to datetime objects\n",
        "df['Time'] = pd.to_datetime(df['Time'])\n",
        "df['Time Out'] = pd.to_datetime(df['Time Out'])\n",
        "\n",
        "# Function to calculate total hours worked\n",
        "def calculate_total_hours(df):\n",
        "    # Calculate the duration for each row\n",
        "    df['Duration'] = df['Time Out'] - df['Time']\n",
        "\n",
        "    # Calculate the total hours worked for each employee\n",
        "    total_hours = df.groupby('Position ID')['Duration'].sum()\n",
        "\n",
        "    return total_hours\n",
        "\n",
        "# Function to check consecutive days worked\n",
        "def consecutive_days_worked(df, days=7):\n",
        "    df['Date'] = df['Time'].dt.date\n",
        "    consecutive_days = df.groupby('Position ID')['Date'].diff().dt.days\n",
        "    return df[consecutive_days == (days - 1)]\n",
        "\n",
        "# Function to check time between shifts\n",
        "def time_between_shifts(df, min_hours=1, max_hours=10):\n",
        "    df['Time Between Shifts'] = df.groupby('Position ID')['Time'].diff().dt.total_seconds() / 3600\n",
        "    return df[(df['Time Between Shifts'] > min_hours) & (df['Time Between Shifts'] < max_hours)]\n",
        "\n",
        "# Function to check single shift duration\n",
        "def long_single_shift(df, threshold_hours=14):\n",
        "    df['Shift Duration'] = (df['Time Out'] - df['Time']).dt.total_seconds() / 3600\n",
        "    return df[df['Shift Duration'] > threshold_hours]\n",
        "\n",
        "# Display employees who worked for 7 consecutive days\n",
        "print(\"\\nEmployees who worked for 7 consecutive days:\")\n",
        "consecutive_days_df = consecutive_days_worked(df, days=7)\n",
        "print(consecutive_days_df[['Employee Name', 'Position ID']])\n",
        "\n",
        "# Display employees with less than 10 hours between shifts but greater than 1 hour\n",
        "print(\"\\nEmployees with less than 10 hours between shifts but greater than 1 hour:\")\n",
        "time_between_shifts_df = time_between_shifts(df, min_hours=1, max_hours=10)\n",
        "print(time_between_shifts_df[['Employee Name', 'Position ID']])\n",
        "\n",
        "# Display employees who worked for more than 14 hours in a single shift\n",
        "print(\"\\nEmployees who worked for more than 14 hours in a single shift:\")\n",
        "long_single_shift_df = long_single_shift(df, threshold_hours=14)\n",
        "print(long_single_shift_df[['Employee Name', 'Position ID']])"
      ]
    }
  ]
}